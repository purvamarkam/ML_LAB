{
  "nbformat": 4,
  "nbformat_minor": 0,
  "metadata": {
    "colab": {
      "provenance": [],
      "authorship_tag": "ABX9TyPTP0xr5IU/PFTMV8Si7u6a",
      "include_colab_link": true
    },
    "kernelspec": {
      "name": "python3",
      "display_name": "Python 3"
    },
    "language_info": {
      "name": "python"
    }
  },
  "cells": [
    {
      "cell_type": "markdown",
      "metadata": {
        "id": "view-in-github",
        "colab_type": "text"
      },
      "source": [
        "<a href=\"https://colab.research.google.com/github/purvamarkam/ML_LAB/blob/main/Assignment7.ipynb\" target=\"_parent\"><img src=\"https://colab.research.google.com/assets/colab-badge.svg\" alt=\"Open In Colab\"/></a>"
      ]
    },
    {
      "cell_type": "code",
      "execution_count": null,
      "metadata": {
        "colab": {
          "base_uri": "https://localhost:8080/"
        },
        "id": "xYHCpbKnY_wR",
        "outputId": "a3dfa988-b98f-4052-ca71-39a6850bff23"
      },
      "outputs": [
        {
          "output_type": "stream",
          "name": "stdout",
          "text": [
            "Features with high VIF (multicollinearity): ['x1', 'x2', 'x4', 'x5', 'x9', 'x10', 'x11']\n",
            "VIF Table After Feature Removal:\n",
            "   Feature       VIF\n",
            "0      x3  1.005677\n",
            "1      x6  1.038902\n",
            "2      x7  1.347616\n",
            "3      x8  1.356499\n",
            "Number of influential points detected: 59\n",
            "Final VIF Table After Removal:\n",
            "   Feature       VIF\n",
            "0      x3  1.000699\n",
            "1      x6  1.053353\n",
            "2      x7  1.321973\n",
            "3      x8  1.336733\n",
            "R² Score (Ridge): 0.07066266989939474\n",
            "Final Score (Ridge): 0.7066266989939474\n",
            "R² Score (Lasso): 0.07080312322632731\n",
            "Final Score (Lasso): 0.7080312322632731\n"
          ]
        }
      ],
      "source": [
        "import pandas as pd\n",
        "import numpy as np\n",
        "import statsmodels.api as sm\n",
        "import matplotlib.pyplot as plt\n",
        "from sklearn.model_selection import train_test_split\n",
        "from sklearn.linear_model import Ridge, Lasso\n",
        "from sklearn.metrics import r2_score\n",
        "from scipy.stats import zscore\n",
        "from statsmodels.stats.outliers_influence import variance_inflation_factor\n",
        "\n",
        "file_path = r\"/content/linear_regression_3.csv\"\n",
        "\n",
        "df = pd.read_csv(file_path)\n",
        "\n",
        "\n",
        "def calculate_vif(df):\n",
        "    vif_data = pd.DataFrame()-+\n",
        "    vif_data[\"Feature\"] = df.columns\n",
        "    vif_data[\"VIF\"] = [variance_inflation_factor(df.values, i) for i in range(df.shape[1])]\n",
        "    return vif_data\n",
        "\n",
        "X = df.drop(columns=['y'])\n",
        "vif_df = calculate_vif(X)\n",
        "\n",
        "high_vif_features = vif_df[vif_df[\"VIF\"] > 10][\"Feature\"].tolist()\n",
        "print(\"Features with high VIF (multicollinearity):\", high_vif_features)\n",
        "\n",
        "X_filtered = X.drop(columns=high_vif_features)\n",
        "df_filtered = X_filtered.copy()\n",
        "df_filtered[\"y\"] = df[\"y\"]\n",
        "\n",
        "print(\"VIF Table After Feature Removal:\\n\", calculate_vif(X_filtered))\n",
        "\n",
        "z_scores = df_filtered.apply(zscore)\n",
        "threshold = 3\n",
        "df_cleaned = df_filtered[(z_scores < threshold).all(axis=1)]\n",
        "\n",
        "\n",
        "X_cleaned = df_cleaned.drop(columns=['y'])\n",
        "y_cleaned = df_cleaned['y']\n",
        "X_train, X_test, y_train, y_test = train_test_split(X_cleaned, y_cleaned, test_size=0.2, random_state=42)\n",
        "\n",
        "X_train_const = sm.add_constant(X_train)\n",
        "model_ols = sm.OLS(y_train, X_train_const).fit()\n",
        "influence = model_ols.get_influence()\n",
        "cooks_d, _ = influence.cooks_distance\n",
        "\n",
        "cooks_threshold = 4 / len(X_train)\n",
        "influential_points = np.where(cooks_d > cooks_threshold)[0]\n",
        "print(\"Number of influential points detected:\", len(influential_points))\n",
        "\n",
        "\n",
        "X_train_filtered = X_train.drop(X_train.index[influential_points])\n",
        "y_train_filtered = y_train.drop(y_train.index[influential_points])\n",
        "\n",
        "\n",
        "ridge_model = Ridge(alpha=1.0)\n",
        "ridge_model.fit(X_train_filtered, y_train_filtered)\n",
        "\n",
        "lasso_model = Lasso(alpha=0.1)\n",
        "lasso_model.fit(X_train_filtered, y_train_filtered)\n",
        "\n",
        "y_pred_ridge = ridge_model.predict(X_test)\n",
        "y_pred_lasso = lasso_model.predict(X_test)\n",
        "\n",
        "r2_ridge = r2_score(y_test, y_pred_ridge)\n",
        "r2_lasso = r2_score(y_test, y_pred_lasso)\n",
        "\n",
        "score_ridge = 10 * r2_ridge\n",
        "score_lasso = 10 * r2_lasso\n",
        "\n",
        "print(\"Final VIF Table After Removal:\\n\", calculate_vif(X_train_filtered))\n",
        "print(\"R² Score (Ridge):\", r2_ridge)\n",
        "print(\"Final Score (Ridge):\", score_ridge)\n",
        "print(\"R² Score (Lasso):\", r2_lasso)\n",
        "print(\"Final Score (Lasso):\", score_lasso)\n"
      ]
    }
  ]
}